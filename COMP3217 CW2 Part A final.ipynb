{
 "cells": [
  {
   "cell_type": "code",
   "execution_count": 108,
   "id": "d58458ab",
   "metadata": {},
   "outputs": [
    {
     "name": "stdout",
     "output_type": "stream",
     "text": [
      "Training data Y target count: 128\n",
      "0      2700\n",
      "1      2700\n",
      "Name: count, dtype: int64\n"
     ]
    }
   ],
   "source": [
    "import numpy as np\n",
    "import pandas as pd\n",
    "import matplotlib.pyplot as plt\n",
    "from sklearn.linear_model import LogisticRegression\n",
    "from sklearn.model_selection import KFold\n",
    "from sklearn.model_selection import cross_val_score\n",
    "from sklearn.model_selection import RandomizedSearchCV\n",
    "from sklearn.model_selection import train_test_split\n",
    "from sklearn.model_selection import GridSearchCV\n",
    "from sklearn.model_selection import RepeatedStratifiedKFold\n",
    "from scipy.stats import uniform\n",
    "from sklearn import datasets, neighbors, linear_model\n",
    "from sklearn.metrics import confusion_matrix, ConfusionMatrixDisplay, f1_score\n",
    "import csv\n",
    "\n",
    "import warnings\n",
    "warnings.filterwarnings('ignore')\n",
    "\n",
    "# get dataframe for training and testing data with column names inputted\n",
    "train_data = pd.read_csv('TrainingDataBinary.csv', header=None)\n",
    "test_data = pd.read_csv('TestingDataBinary.csv', header=None)\n",
    "\n",
    "# Split the training data into data (column 1-128 as X) and target value (column 129 as Y), with all the rows selected\n",
    "X = train_data.iloc[:,:-1]\n",
    "Y = train_data.iloc[:,-1:]\n",
    "# print(X_train.shape, Y_train.shape)\n",
    "\n",
    "# Randomly shuffle dataframe of train data rows to give better representation in accuracy of the model\n",
    "# Split the training data into training and testing part by a ratio\n",
    "# Training data need to be stratified or become balanced to improve the trainng accuracy\n",
    "X_train, X_test, Y_train, Y_test = train_test_split(X, Y, train_size=0.9, random_state=11, stratify = Y)\n",
    "\n",
    "Y_train_df = pd.DataFrame(Y_train)\n",
    "Y_train_df.value_counts()\n",
    "print(\"Training data Y target count:\", Y_train.value_counts())"
   ]
  },
  {
   "cell_type": "code",
   "execution_count": 102,
   "id": "2889bd1f",
   "metadata": {},
   "outputs": [],
   "source": [
    "# define models and parameters, to get the best hyperparameters for LR classification\n",
    "# Set the tolerance to a large value to make the example faster\n",
    "logistic = LogisticRegression(max_iter=10000, tol=0.1)\n",
    "solvers = ['newton-cg', 'lbfgs', 'liblinear']\n",
    "penalty = ['l2']\n",
    "# c_values = [100, 10, 1.0, 0.1, 0.01]\n",
    "c_values = [3000, 5000, 8000, 30000, 100000]\n",
    "# define grid search\n",
    "grid = dict(solver=solvers,penalty=penalty,C=c_values)\n",
    "cv = RepeatedStratifiedKFold(n_splits=10, n_repeats=3, random_state=1)\n",
    "grid_search = GridSearchCV(estimator=logistic, param_grid=grid, n_jobs=-1, cv=cv, scoring='accuracy',error_score=0)\n",
    "grid_result = grid_search.fit(X_train, Y_train)\n",
    "# summarize results\n",
    "print(\"Best: %f using %s\" % (grid_result.best_score_, grid_result.best_params_))\n",
    "means = grid_result.cv_results_['mean_test_score']\n",
    "stds = grid_result.cv_results_['std_test_score']\n",
    "params = grid_result.cv_results_['params']\n"
   ]
  },
  {
   "cell_type": "code",
   "execution_count": 118,
   "id": "f1ff1616",
   "metadata": {},
   "outputs": [],
   "source": [
    "# Build logistic regression model\n",
    "model = linear_model.LogisticRegression(C=1e5, solver = 'newton-cg', max_iter=10000)\n",
    "\n",
    "model.fit(X_train, Y_train)\n",
    "\n",
    "# Predict model result of training and testing data for accuracy calculation\n",
    "pred_train = model.predict(X_train)\n",
    "pred_test = model.predict(X_test)"
   ]
  },
  {
   "cell_type": "code",
   "execution_count": 115,
   "id": "0cf967de",
   "metadata": {},
   "outputs": [
    {
     "name": "stdout",
     "output_type": "stream",
     "text": [
      "Crossval f1 score (5 folds):  [0.92407407 0.88055556 0.91759259 0.89259259 0.9037037 ]\n",
      "Average crossval score (accuracy):  0.9037037037037037\n",
      "Training Score (f1 macro):  0.9084256125968129\n",
      "Testing Score (f1 macro):  0.904940587867417\n"
     ]
    },
    {
     "data": {
      "image/png": "[encoded data removed]",
      "text/plain": [
       "<Figure size 640x480 with 2 Axes>"
      ]
     },
     "metadata": {},
     "output_type": "display_data"
    }
   ],
   "source": [
    "# Print results (cross validation score, f1_score, confusion matrix)\n",
    "# Cross validation f1 score of the data\n",
    "# 5 folds selected\n",
    "kfold = KFold(n_splits=5, random_state=0, shuffle=True)\n",
    "results = cross_val_score(model, X_train, Y_train, cv=kfold, scoring='accuracy')\n",
    "\n",
    "print(\"Crossval f1 score (5 folds): \", results)\n",
    "avg_score = np.mean(results)\n",
    "print(\"Average crossval score (accuracy): \", avg_score)\n",
    "\n",
    "# Get training score and testing score\n",
    "print (\"Training Score (f1 macro): \",f1_score(Y_train, pred_train, average='macro'))\n",
    "print (\"Testing Score (f1 macro): \" ,f1_score(Y_test, pred_test, average='macro'))\n",
    "\n",
    "# Get confusion matrix\n",
    "cm = confusion_matrix(Y_test, pred_test, labels= model.classes_)\n",
    "disp = ConfusionMatrixDisplay(confusion_matrix=cm, display_labels=model.classes_)\n",
    "disp.plot()\n",
    "plt.title('Confusion Matrix')\n",
    "plt.xticks(tick_marks, ['Normal (0)', 'Abnormal (1)'])\n",
    "plt.yticks(tick_marks, ['Normal (0)', 'Abnormal (1)'])\n",
    "plt.show()"
   ]
  },
  {
   "cell_type": "code",
   "execution_count": 105,
   "id": "0f25ce77",
   "metadata": {},
   "outputs": [
    {
     "name": "stdout",
     "output_type": "stream",
     "text": [
      "[1 1 1 1 1 1 1 1 1 1 1 1 1 1 1 1 1 1 1 1 1 1 1 1 1 1 1 1 1 1 1 1 1 1 0 1 0\n",
      " 0 0 1 1 1 1 1 0 1 1 0 1 1 0 0 0 0 0 0 0 0 0 0 0 0 0 0 0 0 1 1 0 1 1 1 0 0\n",
      " 0 0 0 0 0 0 0 0 0 0 0 0 0 0 0 0 0 0 0 0 0 0 0 0 0 0]\n"
     ]
    },
    {
     "data": {
      "text/plain": [
       "0    51\n",
       "1    49\n",
       "Name: count, dtype: int64"
      ]
     },
     "execution_count": 105,
     "metadata": {},
     "output_type": "execute_result"
    }
   ],
   "source": [
    "# Get predict result of test data from TestingDataBinary\n",
    "output_label = model.predict(test_data)\n",
    "print(output_label)\n",
    "\n",
    "# Create dataframe for the label\n",
    "output_df = pd.DataFrame(output_label)\n",
    "output_df.value_counts()"
   ]
  },
  {
   "cell_type": "code",
   "execution_count": 117,
   "id": "fc0a168d",
   "metadata": {},
   "outputs": [],
   "source": [
    "#Save it to an excel file\n",
    "output_df.to_csv(\"TestingResultsBinary.csv\", index=False, header=False) "
   ]
  }
 ],
 "metadata": {
  "kernelspec": {
   "display_name": "Python 3 (ipykernel)",
   "language": "python",
   "name": "python3"
  },
  "language_info": {
   "codemirror_mode": {
    "name": "ipython",
    "version": 3
   },
   "file_extension": ".py",
   "mimetype": "text/x-python",
   "name": "python",
   "nbconvert_exporter": "python",
   "pygments_lexer": "ipython3",
   "version": "3.9.5"
  }
 },
 "nbformat": 4,
 "nbformat_minor": 5
}
